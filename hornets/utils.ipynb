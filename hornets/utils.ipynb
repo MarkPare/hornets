{
 "cells": [
  {
   "cell_type": "code",
   "execution_count": 52,
   "metadata": {},
   "outputs": [
    {
     "name": "stdout",
     "output_type": "stream",
     "text": [
      "alt Asian giant hornet - Wikipedia\n",
      "alt Vespa mandarinia\n",
      "alt Vespa mandarinia/Japanese hornets.. QUEENS! | Asian giant hornet, Japanese  giant hornet, Hornet\n",
      "alt This is a Giant Asian Hornet. (Vespa mandarinia) also called Giant Japanese  hornet (Vespa mandarinia japonica).… | Asian giant hornet, Japanese giant  hornet, Hornet\n",
      "alt What is the Asian Giant Hornet found in Washington state? - Veto Pharma Blog\n",
      "alt Vespa mandarinia\n",
      "alt The Asian giant hornet (Vespa mandarinia): What do we know about it? | All  you need is Biology\n",
      "alt Real Vespa mandarinia murder hornet for sale - BicBugs\n",
      "alt Ridiculous' To Call Asian Giant Hornet 'Murder Hornet': UC Davis | Davis,  CA Patch\n",
      "alt Murder hornets, Take 2: Asian giant hornet, Vespa mandarinia — Bug of the  Week\n"
     ]
    }
   ],
   "source": [
    "from bs4 import BeautifulSoup\n",
    "import base64\n",
    "from io import BytesIO\n",
    "from PIL import Image\n",
    "import os\n",
    "\n",
    "\n",
    "def isBase64Image(text):\n",
    "    return isinstance(text, str) and text.startswith('data:image/jpeg;base64')\n",
    "\n",
    "def get_base64_content(initial):\n",
    "    r1 = initial.split('data:image/jpeg;base64,')[1]\n",
    "    return r1\n",
    "\n",
    "def get_image_type(src):\n",
    "    if 'jpeg' in src:\n",
    "        return {'ext': 'jpg', 'label': 'JPEG'}\n",
    "#     else if 'png' in src:\n",
    "#         return {'ext': 'png', 'label': 'PNG'}\n",
    "    else:\n",
    "        print('unknown type', src)\n",
    "        return {'ext': None, label: None}\n",
    "\n",
    "def seedImages():\n",
    "    htmlFilePath = './data/vespa.txt'\n",
    "    file = open(htmlFilePath).read()\n",
    "    soup = BeautifulSoup(file, 'html.parser')\n",
    "\n",
    "    el = soup.find(id=\"islrg\")\n",
    "    images = el.find_all('img')\n",
    "    data = []\n",
    "\n",
    "    for image in images[0:4]:\n",
    "        item = {\n",
    "            \"src\": image.get('src'),\n",
    "            \"alt\": image.get('alt'),\n",
    "            \"isBase64\": isBase64Image(image.get('src')),\n",
    "        }\n",
    "        data.append(item)\n",
    "    \n",
    "    for item in data:\n",
    "        if item['isBase64']:\n",
    "            content = get_base64_content(item['src'])\n",
    "            decoded = base64.b64decode(content)\n",
    "            bytesData = BytesIO(decoded)\n",
    "            name = item['alt'][0:20]\n",
    "            im = Image.open(bytesData)\n",
    "            image_type = get_image_type(item['src'])\n",
    "            if image_type['ext'] == None:\n",
    "                continue\n",
    "            filePath = f'{os.getcwd()}/data/vespa_mandarinia/{name}.{image_type['ext']}'\n",
    "            im.save(filePath, image_type['label'])\n",
    "\n",
    "    \n",
    "    \n"
   ]
  },
  {
   "cell_type": "code",
   "execution_count": null,
   "metadata": {},
   "outputs": [],
   "source": []
  }
 ],
 "metadata": {
  "environment": {
   "name": "pytorch-gpu.1-6.m59",
   "type": "gcloud",
   "uri": "gcr.io/deeplearning-platform-release/pytorch-gpu.1-6:m59"
  },
  "kernelspec": {
   "display_name": "Python 3",
   "language": "python",
   "name": "python3"
  },
  "language_info": {
   "codemirror_mode": {
    "name": "ipython",
    "version": 3
   },
   "file_extension": ".py",
   "mimetype": "text/x-python",
   "name": "python",
   "nbconvert_exporter": "python",
   "pygments_lexer": "ipython3",
   "version": "3.7.8"
  }
 },
 "nbformat": 4,
 "nbformat_minor": 4
}
